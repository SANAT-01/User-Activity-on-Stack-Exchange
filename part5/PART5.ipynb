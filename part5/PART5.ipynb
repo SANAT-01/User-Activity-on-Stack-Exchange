{
 "cells": [
  {
   "cell_type": "code",
   "execution_count": 1,
   "id": "376544fc",
   "metadata": {},
   "outputs": [],
   "source": [
    "import pandas as pd\n",
    "import xml.etree.ElementTree as et\n",
    "\n",
    "def intr_docs(xml_doc):\n",
    "    attr = xml_doc.attrib\n",
    "    for xml in xml_doc.iter('row'):\n",
    "        doc_dict = attr.copy()\n",
    "        doc_dict.update(xml.attrib)\n",
    "        yield doc_dict\n",
    "\n",
    "etree1 = et.parse(r'D:\\DOC\\COLLEGE DOC\\NOTES\\Archit and manag\\Stack exchange\\stackexchange\\Users.xml')\n",
    "doc1 = pd.DataFrame(list(intr_docs(etree1.getroot())))\n",
    "doc1.to_csv('Users.csv')\n",
    "\n",
    "etree2 = et.parse(r'D:\\DOC\\COLLEGE DOC\\NOTES\\Archit and manag\\Stack exchange\\stackexchange\\PostHistory.xml')\n",
    "doc2 = pd.DataFrame(list(intr_docs(etree2.getroot())))\n",
    "doc2.to_csv('PostHistory.csv')\n",
    "\n",
    "df1 = pd.read_csv('users.csv')\n",
    "df2 = pd.read_csv('PostHistory.csv')"
   ]
  },
  {
   "cell_type": "code",
   "execution_count": 2,
   "id": "2ecc9a1b",
   "metadata": {},
   "outputs": [
    {
     "data": {
      "text/html": [
       "<div>\n",
       "<style scoped>\n",
       "    .dataframe tbody tr th:only-of-type {\n",
       "        vertical-align: middle;\n",
       "    }\n",
       "\n",
       "    .dataframe tbody tr th {\n",
       "        vertical-align: top;\n",
       "    }\n",
       "\n",
       "    .dataframe thead th {\n",
       "        text-align: right;\n",
       "    }\n",
       "</style>\n",
       "<table border=\"1\" class=\"dataframe\">\n",
       "  <thead>\n",
       "    <tr style=\"text-align: right;\">\n",
       "      <th></th>\n",
       "      <th>Unnamed: 0</th>\n",
       "      <th>Id</th>\n",
       "      <th>Reputation</th>\n",
       "      <th>CreationDate</th>\n",
       "      <th>DisplayName</th>\n",
       "      <th>LastAccessDate</th>\n",
       "      <th>WebsiteUrl</th>\n",
       "      <th>Location</th>\n",
       "      <th>AboutMe</th>\n",
       "      <th>Views</th>\n",
       "      <th>UpVotes</th>\n",
       "      <th>DownVotes</th>\n",
       "      <th>AccountId</th>\n",
       "      <th>ProfileImageUrl</th>\n",
       "    </tr>\n",
       "  </thead>\n",
       "  <tbody>\n",
       "    <tr>\n",
       "      <th>0</th>\n",
       "      <td>0</td>\n",
       "      <td>-1</td>\n",
       "      <td>1</td>\n",
       "      <td>2014-05-13T21:29:22.820</td>\n",
       "      <td>Community</td>\n",
       "      <td>2014-05-13T21:29:22.820</td>\n",
       "      <td>http://meta.stackexchange.com/</td>\n",
       "      <td>on the server farm</td>\n",
       "      <td>&lt;p&gt;Hi, I'm not really a person.&lt;/p&gt;\\n\\n&lt;p&gt;I'm ...</td>\n",
       "      <td>189</td>\n",
       "      <td>825</td>\n",
       "      <td>1757</td>\n",
       "      <td>-1.0</td>\n",
       "      <td>NaN</td>\n",
       "    </tr>\n",
       "    <tr>\n",
       "      <th>1</th>\n",
       "      <td>1</td>\n",
       "      <td>1</td>\n",
       "      <td>101</td>\n",
       "      <td>2014-05-13T22:58:54.810</td>\n",
       "      <td>Adam Lear</td>\n",
       "      <td>2021-06-04T19:34:41.850</td>\n",
       "      <td>NaN</td>\n",
       "      <td>New York, NY</td>\n",
       "      <td>\\n&lt;p&gt;Developer at Stack Overflow focusing on p...</td>\n",
       "      <td>714</td>\n",
       "      <td>0</td>\n",
       "      <td>0</td>\n",
       "      <td>37099.0</td>\n",
       "      <td>https://i.stack.imgur.com/8gs0B.png?s=128&amp;g=1</td>\n",
       "    </tr>\n",
       "    <tr>\n",
       "      <th>2</th>\n",
       "      <td>2</td>\n",
       "      <td>2</td>\n",
       "      <td>101</td>\n",
       "      <td>2014-05-13T22:59:19.787</td>\n",
       "      <td>Geoff Dalgas</td>\n",
       "      <td>2019-09-03T19:10:22.217</td>\n",
       "      <td>http://stackoverflow.com</td>\n",
       "      <td>Corvallis, OR</td>\n",
       "      <td>&lt;p&gt;Dev #2 who helped create Stack Overflow cur...</td>\n",
       "      <td>9</td>\n",
       "      <td>0</td>\n",
       "      <td>0</td>\n",
       "      <td>2.0</td>\n",
       "      <td>https://i.stack.imgur.com/nDllk.png?s=128&amp;g=1</td>\n",
       "    </tr>\n",
       "  </tbody>\n",
       "</table>\n",
       "</div>"
      ],
      "text/plain": [
       "   Unnamed: 0  Id  Reputation             CreationDate   DisplayName  \\\n",
       "0           0  -1           1  2014-05-13T21:29:22.820     Community   \n",
       "1           1   1         101  2014-05-13T22:58:54.810     Adam Lear   \n",
       "2           2   2         101  2014-05-13T22:59:19.787  Geoff Dalgas   \n",
       "\n",
       "            LastAccessDate                      WebsiteUrl  \\\n",
       "0  2014-05-13T21:29:22.820  http://meta.stackexchange.com/   \n",
       "1  2021-06-04T19:34:41.850                             NaN   \n",
       "2  2019-09-03T19:10:22.217        http://stackoverflow.com   \n",
       "\n",
       "             Location                                            AboutMe  \\\n",
       "0  on the server farm  <p>Hi, I'm not really a person.</p>\\n\\n<p>I'm ...   \n",
       "1        New York, NY  \\n<p>Developer at Stack Overflow focusing on p...   \n",
       "2       Corvallis, OR  <p>Dev #2 who helped create Stack Overflow cur...   \n",
       "\n",
       "   Views  UpVotes  DownVotes  AccountId  \\\n",
       "0    189      825       1757       -1.0   \n",
       "1    714        0          0    37099.0   \n",
       "2      9        0          0        2.0   \n",
       "\n",
       "                                 ProfileImageUrl  \n",
       "0                                            NaN  \n",
       "1  https://i.stack.imgur.com/8gs0B.png?s=128&g=1  \n",
       "2  https://i.stack.imgur.com/nDllk.png?s=128&g=1  "
      ]
     },
     "execution_count": 2,
     "metadata": {},
     "output_type": "execute_result"
    }
   ],
   "source": [
    "df1.head(3)"
   ]
  },
  {
   "cell_type": "code",
   "execution_count": 3,
   "id": "d67ac82f",
   "metadata": {},
   "outputs": [
    {
     "data": {
      "text/html": [
       "<div>\n",
       "<style scoped>\n",
       "    .dataframe tbody tr th:only-of-type {\n",
       "        vertical-align: middle;\n",
       "    }\n",
       "\n",
       "    .dataframe tbody tr th {\n",
       "        vertical-align: top;\n",
       "    }\n",
       "\n",
       "    .dataframe thead th {\n",
       "        text-align: right;\n",
       "    }\n",
       "</style>\n",
       "<table border=\"1\" class=\"dataframe\">\n",
       "  <thead>\n",
       "    <tr style=\"text-align: right;\">\n",
       "      <th></th>\n",
       "      <th>Unnamed: 0</th>\n",
       "      <th>Id</th>\n",
       "      <th>PostHistoryTypeId</th>\n",
       "      <th>PostId</th>\n",
       "      <th>RevisionGUID</th>\n",
       "      <th>CreationDate</th>\n",
       "      <th>UserId</th>\n",
       "      <th>Text</th>\n",
       "      <th>ContentLicense</th>\n",
       "      <th>Comment</th>\n",
       "      <th>UserDisplayName</th>\n",
       "    </tr>\n",
       "  </thead>\n",
       "  <tbody>\n",
       "    <tr>\n",
       "      <th>0</th>\n",
       "      <td>0</td>\n",
       "      <td>7</td>\n",
       "      <td>2</td>\n",
       "      <td>5</td>\n",
       "      <td>009bca93-fce2-44ed-a277-a8452650a627</td>\n",
       "      <td>2014-05-13T23:58:30.457</td>\n",
       "      <td>5.0</td>\n",
       "      <td>I've always been interested in machine learnin...</td>\n",
       "      <td>CC BY-SA 3.0</td>\n",
       "      <td>NaN</td>\n",
       "      <td>NaN</td>\n",
       "    </tr>\n",
       "    <tr>\n",
       "      <th>1</th>\n",
       "      <td>1</td>\n",
       "      <td>8</td>\n",
       "      <td>1</td>\n",
       "      <td>5</td>\n",
       "      <td>009bca93-fce2-44ed-a277-a8452650a627</td>\n",
       "      <td>2014-05-13T23:58:30.457</td>\n",
       "      <td>5.0</td>\n",
       "      <td>How can I do simple machine learning without h...</td>\n",
       "      <td>CC BY-SA 3.0</td>\n",
       "      <td>NaN</td>\n",
       "      <td>NaN</td>\n",
       "    </tr>\n",
       "  </tbody>\n",
       "</table>\n",
       "</div>"
      ],
      "text/plain": [
       "   Unnamed: 0  Id  PostHistoryTypeId  PostId  \\\n",
       "0           0   7                  2       5   \n",
       "1           1   8                  1       5   \n",
       "\n",
       "                           RevisionGUID             CreationDate  UserId  \\\n",
       "0  009bca93-fce2-44ed-a277-a8452650a627  2014-05-13T23:58:30.457     5.0   \n",
       "1  009bca93-fce2-44ed-a277-a8452650a627  2014-05-13T23:58:30.457     5.0   \n",
       "\n",
       "                                                Text ContentLicense Comment  \\\n",
       "0  I've always been interested in machine learnin...   CC BY-SA 3.0     NaN   \n",
       "1  How can I do simple machine learning without h...   CC BY-SA 3.0     NaN   \n",
       "\n",
       "  UserDisplayName  \n",
       "0             NaN  \n",
       "1             NaN  "
      ]
     },
     "execution_count": 3,
     "metadata": {},
     "output_type": "execute_result"
    }
   ],
   "source": [
    "df2.head(2)"
   ]
  },
  {
   "cell_type": "code",
   "execution_count": 4,
   "id": "fc274011",
   "metadata": {},
   "outputs": [
    {
     "data": {
      "text/plain": [
       "(104894, 14)"
      ]
     },
     "execution_count": 4,
     "metadata": {},
     "output_type": "execute_result"
    }
   ],
   "source": [
    "df1.shape"
   ]
  },
  {
   "cell_type": "code",
   "execution_count": 5,
   "id": "8d03ab6f",
   "metadata": {},
   "outputs": [
    {
     "data": {
      "text/plain": [
       "(206744, 11)"
      ]
     },
     "execution_count": 5,
     "metadata": {},
     "output_type": "execute_result"
    }
   ],
   "source": [
    "df2.shape"
   ]
  },
  {
   "cell_type": "code",
   "execution_count": 6,
   "id": "ccd5beec",
   "metadata": {},
   "outputs": [
    {
     "data": {
      "text/plain": [
       "Unnamed: 0           int64\n",
       "Id                   int64\n",
       "Reputation           int64\n",
       "CreationDate        object\n",
       "DisplayName         object\n",
       "LastAccessDate      object\n",
       "WebsiteUrl          object\n",
       "Location            object\n",
       "AboutMe             object\n",
       "Views                int64\n",
       "UpVotes              int64\n",
       "DownVotes            int64\n",
       "AccountId          float64\n",
       "ProfileImageUrl     object\n",
       "dtype: object"
      ]
     },
     "execution_count": 6,
     "metadata": {},
     "output_type": "execute_result"
    }
   ],
   "source": [
    "df1.dtypes"
   ]
  },
  {
   "cell_type": "code",
   "execution_count": 7,
   "id": "dd67d350",
   "metadata": {},
   "outputs": [
    {
     "data": {
      "text/plain": [
       "Unnamed: 0             int64\n",
       "Id                     int64\n",
       "PostHistoryTypeId      int64\n",
       "PostId                 int64\n",
       "RevisionGUID          object\n",
       "CreationDate          object\n",
       "UserId               float64\n",
       "Text                  object\n",
       "ContentLicense        object\n",
       "Comment               object\n",
       "UserDisplayName       object\n",
       "dtype: object"
      ]
     },
     "execution_count": 7,
     "metadata": {},
     "output_type": "execute_result"
    }
   ],
   "source": [
    "df2.dtypes"
   ]
  },
  {
   "cell_type": "code",
   "execution_count": 8,
   "id": "72e1aa41",
   "metadata": {},
   "outputs": [
    {
     "data": {
      "text/plain": [
       "2     64849\n",
       "5     33510\n",
       "1     30752\n",
       "3     30336\n",
       "50    27269\n",
       "24     6669\n",
       "6      4492\n",
       "4      3885\n",
       "10     2170\n",
       "33      500\n",
       "34      499\n",
       "52      456\n",
       "12      266\n",
       "13      266\n",
       "16      246\n",
       "36      182\n",
       "11      109\n",
       "8       106\n",
       "19       86\n",
       "14       22\n",
       "15       18\n",
       "7        18\n",
       "35       15\n",
       "9         7\n",
       "53        7\n",
       "38        6\n",
       "37        2\n",
       "20        1\n",
       "Name: PostHistoryTypeId, dtype: int64"
      ]
     },
     "execution_count": 8,
     "metadata": {},
     "output_type": "execute_result"
    }
   ],
   "source": [
    "df2['PostHistoryTypeId'].value_counts()"
   ]
  },
  {
   "cell_type": "code",
   "execution_count": 14,
   "id": "196b953b",
   "metadata": {},
   "outputs": [
    {
     "data": {
      "text/plain": [
       "1        58303\n",
       "101      28228\n",
       "11        3039\n",
       "111       1495\n",
       "21        1439\n",
       "         ...  \n",
       "10263        1\n",
       "2278         1\n",
       "274          1\n",
       "1894         1\n",
       "1791         1\n",
       "Name: Reputation, Length: 887, dtype: int64"
      ]
     },
     "execution_count": 14,
     "metadata": {},
     "output_type": "execute_result"
    }
   ],
   "source": [
    "df1['Reputation'].value_counts()"
   ]
  },
  {
   "cell_type": "code",
   "execution_count": 11,
   "id": "e3568462",
   "metadata": {},
   "outputs": [],
   "source": [
    "col1 = df1['Reputation']\n",
    "col2 = df2['PostHistoryTypeId']"
   ]
  },
  {
   "cell_type": "code",
   "execution_count": 12,
   "id": "59445393",
   "metadata": {},
   "outputs": [],
   "source": [
    "correlationcofficient = col1.corr(col2)"
   ]
  },
  {
   "cell_type": "code",
   "execution_count": 13,
   "id": "85a7f0a9",
   "metadata": {},
   "outputs": [
    {
     "data": {
      "text/plain": [
       "-0.010703152516227901"
      ]
     },
     "execution_count": 13,
     "metadata": {},
     "output_type": "execute_result"
    }
   ],
   "source": [
    "correlationcofficient"
   ]
  }
 ],
 "metadata": {
  "kernelspec": {
   "display_name": "Python 3",
   "language": "python",
   "name": "python3"
  },
  "language_info": {
   "codemirror_mode": {
    "name": "ipython",
    "version": 3
   },
   "file_extension": ".py",
   "mimetype": "text/x-python",
   "name": "python",
   "nbconvert_exporter": "python",
   "pygments_lexer": "ipython3",
   "version": "3.8.8"
  }
 },
 "nbformat": 4,
 "nbformat_minor": 5
}
